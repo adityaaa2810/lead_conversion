{
 "cells": [
  {
   "cell_type": "markdown",
   "id": "28616d38",
   "metadata": {},
   "source": [
    "# Sales Lead Conversion Prediction for Tara Metal Industries\n",
    "This notebook demonstrates a machine learning workflow to predict which sales leads are most likely to convert into customers using the provided dataset."
   ]
  },
  {
   "cell_type": "markdown",
   "id": "2cbcdaf9",
   "metadata": {},
   "source": [
    "## 1. Import Required Libraries"
   ]
  },
  {
   "cell_type": "code",
   "execution_count": 6,
   "id": "155ecf10",
   "metadata": {},
   "outputs": [],
   "source": [
    "# Import libraries for data science and machine learning\n",
    "import pandas as pd\n",
    "import numpy as np\n",
    "import matplotlib.pyplot as plt\n",
    "import seaborn as sns\n",
    "from sklearn.model_selection import train_test_split\n",
    "from sklearn.preprocessing import StandardScaler, OneHotEncoder\n",
    "from sklearn.compose import ColumnTransformer\n",
    "from sklearn.pipeline import Pipeline\n",
    "from sklearn.linear_model import LogisticRegression\n",
    "from sklearn.ensemble import RandomForestClassifier\n",
    "from xgboost import XGBClassifier\n",
    "from sklearn.metrics import classification_report, confusion_matrix, roc_auc_score, accuracy_score"
   ]
  },
  {
   "cell_type": "markdown",
   "id": "e829c924",
   "metadata": {},
   "source": [
    "## 2. Load and Explore the Dataset"
   ]
  },
  {
   "cell_type": "code",
   "execution_count": 25,
   "id": "9b1f4d98",
   "metadata": {},
   "outputs": [
    {
     "data": {
      "text/html": [
       "<div>\n",
       "<style scoped>\n",
       "    .dataframe tbody tr th:only-of-type {\n",
       "        vertical-align: middle;\n",
       "    }\n",
       "\n",
       "    .dataframe tbody tr th {\n",
       "        vertical-align: top;\n",
       "    }\n",
       "\n",
       "    .dataframe thead th {\n",
       "        text-align: right;\n",
       "    }\n",
       "</style>\n",
       "<table border=\"1\" class=\"dataframe\">\n",
       "  <thead>\n",
       "    <tr style=\"text-align: right;\">\n",
       "      <th></th>\n",
       "      <th>lead_id</th>\n",
       "      <th>company_name</th>\n",
       "      <th>company_type</th>\n",
       "      <th>region</th>\n",
       "      <th>product_interest</th>\n",
       "      <th>inquiry_channel</th>\n",
       "      <th>company_size</th>\n",
       "      <th>order_quantity_est</th>\n",
       "      <th>response_time_hrs</th>\n",
       "      <th>quotation_shared</th>\n",
       "      <th>catalog_requested</th>\n",
       "      <th>followups</th>\n",
       "      <th>conversion_status</th>\n",
       "    </tr>\n",
       "  </thead>\n",
       "  <tbody>\n",
       "    <tr>\n",
       "      <th>0</th>\n",
       "      <td>TM1001</td>\n",
       "      <td>Madden and Sons</td>\n",
       "      <td>Retailer</td>\n",
       "      <td>North</td>\n",
       "      <td>Both</td>\n",
       "      <td>WhatsApp</td>\n",
       "      <td>Small</td>\n",
       "      <td>238</td>\n",
       "      <td>18</td>\n",
       "      <td>Yes</td>\n",
       "      <td>Yes</td>\n",
       "      <td>4</td>\n",
       "      <td>1</td>\n",
       "    </tr>\n",
       "    <tr>\n",
       "      <th>1</th>\n",
       "      <td>TM1002</td>\n",
       "      <td>Mora-Berry</td>\n",
       "      <td>Retailer</td>\n",
       "      <td>North</td>\n",
       "      <td>Kitchenware</td>\n",
       "      <td>Website</td>\n",
       "      <td>Large</td>\n",
       "      <td>626</td>\n",
       "      <td>4</td>\n",
       "      <td>Yes</td>\n",
       "      <td>No</td>\n",
       "      <td>1</td>\n",
       "      <td>1</td>\n",
       "    </tr>\n",
       "    <tr>\n",
       "      <th>2</th>\n",
       "      <td>TM1003</td>\n",
       "      <td>Mcdonald-Jones</td>\n",
       "      <td>Online Seller</td>\n",
       "      <td>North</td>\n",
       "      <td>Kitchenware</td>\n",
       "      <td>Reference</td>\n",
       "      <td>Medium</td>\n",
       "      <td>294</td>\n",
       "      <td>20</td>\n",
       "      <td>Yes</td>\n",
       "      <td>No</td>\n",
       "      <td>0</td>\n",
       "      <td>1</td>\n",
       "    </tr>\n",
       "    <tr>\n",
       "      <th>3</th>\n",
       "      <td>TM1004</td>\n",
       "      <td>Jones Inc</td>\n",
       "      <td>Retailer</td>\n",
       "      <td>East</td>\n",
       "      <td>Water Storage</td>\n",
       "      <td>Dealer</td>\n",
       "      <td>Medium</td>\n",
       "      <td>836</td>\n",
       "      <td>6</td>\n",
       "      <td>No</td>\n",
       "      <td>Yes</td>\n",
       "      <td>3</td>\n",
       "      <td>1</td>\n",
       "    </tr>\n",
       "    <tr>\n",
       "      <th>4</th>\n",
       "      <td>TM1005</td>\n",
       "      <td>Mitchell-George</td>\n",
       "      <td>Online Seller</td>\n",
       "      <td>Central</td>\n",
       "      <td>Water Storage</td>\n",
       "      <td>Dealer</td>\n",
       "      <td>Small</td>\n",
       "      <td>731</td>\n",
       "      <td>9</td>\n",
       "      <td>Yes</td>\n",
       "      <td>Yes</td>\n",
       "      <td>2</td>\n",
       "      <td>0</td>\n",
       "    </tr>\n",
       "  </tbody>\n",
       "</table>\n",
       "</div>"
      ],
      "text/plain": [
       "  lead_id     company_name   company_type   region product_interest  \\\n",
       "0  TM1001  Madden and Sons       Retailer    North             Both   \n",
       "1  TM1002       Mora-Berry       Retailer    North      Kitchenware   \n",
       "2  TM1003   Mcdonald-Jones  Online Seller    North      Kitchenware   \n",
       "3  TM1004        Jones Inc       Retailer     East    Water Storage   \n",
       "4  TM1005  Mitchell-George  Online Seller  Central    Water Storage   \n",
       "\n",
       "  inquiry_channel company_size  order_quantity_est  response_time_hrs  \\\n",
       "0        WhatsApp        Small                 238                 18   \n",
       "1         Website        Large                 626                  4   \n",
       "2       Reference       Medium                 294                 20   \n",
       "3          Dealer       Medium                 836                  6   \n",
       "4          Dealer        Small                 731                  9   \n",
       "\n",
       "  quotation_shared catalog_requested  followups  conversion_status  \n",
       "0              Yes               Yes          4                  1  \n",
       "1              Yes                No          1                  1  \n",
       "2              Yes                No          0                  1  \n",
       "3               No               Yes          3                  1  \n",
       "4              Yes               Yes          2                  0  "
      ]
     },
     "metadata": {},
     "output_type": "display_data"
    },
    {
     "name": "stdout",
     "output_type": "stream",
     "text": [
      "<class 'pandas.core.frame.DataFrame'>\n",
      "RangeIndex: 5000 entries, 0 to 4999\n",
      "Data columns (total 13 columns):\n",
      " #   Column              Non-Null Count  Dtype \n",
      "---  ------              --------------  ----- \n",
      " 0   lead_id             5000 non-null   object\n",
      " 1   company_name        5000 non-null   object\n",
      " 2   company_type        5000 non-null   object\n",
      " 3   region              5000 non-null   object\n",
      " 4   product_interest    5000 non-null   object\n",
      " 5   inquiry_channel     5000 non-null   object\n",
      " 6   company_size        5000 non-null   object\n",
      " 7   order_quantity_est  5000 non-null   int64 \n",
      " 8   response_time_hrs   5000 non-null   int64 \n",
      " 9   quotation_shared    5000 non-null   object\n",
      " 10  catalog_requested   5000 non-null   object\n",
      " 11  followups           5000 non-null   int64 \n",
      " 12  conversion_status   5000 non-null   int64 \n",
      "dtypes: int64(4), object(9)\n",
      "memory usage: 507.9+ KB\n"
     ]
    },
    {
     "data": {
      "text/plain": [
       "None"
      ]
     },
     "metadata": {},
     "output_type": "display_data"
    },
    {
     "data": {
      "text/html": [
       "<div>\n",
       "<style scoped>\n",
       "    .dataframe tbody tr th:only-of-type {\n",
       "        vertical-align: middle;\n",
       "    }\n",
       "\n",
       "    .dataframe tbody tr th {\n",
       "        vertical-align: top;\n",
       "    }\n",
       "\n",
       "    .dataframe thead th {\n",
       "        text-align: right;\n",
       "    }\n",
       "</style>\n",
       "<table border=\"1\" class=\"dataframe\">\n",
       "  <thead>\n",
       "    <tr style=\"text-align: right;\">\n",
       "      <th></th>\n",
       "      <th>order_quantity_est</th>\n",
       "      <th>response_time_hrs</th>\n",
       "      <th>followups</th>\n",
       "      <th>conversion_status</th>\n",
       "    </tr>\n",
       "  </thead>\n",
       "  <tbody>\n",
       "    <tr>\n",
       "      <th>count</th>\n",
       "      <td>5000.000000</td>\n",
       "      <td>5000.000000</td>\n",
       "      <td>5000.000000</td>\n",
       "      <td>5000.000000</td>\n",
       "    </tr>\n",
       "    <tr>\n",
       "      <th>mean</th>\n",
       "      <td>500.076600</td>\n",
       "      <td>36.468400</td>\n",
       "      <td>2.478000</td>\n",
       "      <td>0.460000</td>\n",
       "    </tr>\n",
       "    <tr>\n",
       "      <th>std</th>\n",
       "      <td>285.862122</td>\n",
       "      <td>20.899549</td>\n",
       "      <td>1.717704</td>\n",
       "      <td>0.498447</td>\n",
       "    </tr>\n",
       "    <tr>\n",
       "      <th>min</th>\n",
       "      <td>10.000000</td>\n",
       "      <td>1.000000</td>\n",
       "      <td>0.000000</td>\n",
       "      <td>0.000000</td>\n",
       "    </tr>\n",
       "    <tr>\n",
       "      <th>25%</th>\n",
       "      <td>253.000000</td>\n",
       "      <td>18.000000</td>\n",
       "      <td>1.000000</td>\n",
       "      <td>0.000000</td>\n",
       "    </tr>\n",
       "    <tr>\n",
       "      <th>50%</th>\n",
       "      <td>491.000000</td>\n",
       "      <td>37.000000</td>\n",
       "      <td>2.000000</td>\n",
       "      <td>0.000000</td>\n",
       "    </tr>\n",
       "    <tr>\n",
       "      <th>75%</th>\n",
       "      <td>750.000000</td>\n",
       "      <td>54.000000</td>\n",
       "      <td>4.000000</td>\n",
       "      <td>1.000000</td>\n",
       "    </tr>\n",
       "    <tr>\n",
       "      <th>max</th>\n",
       "      <td>1000.000000</td>\n",
       "      <td>72.000000</td>\n",
       "      <td>5.000000</td>\n",
       "      <td>1.000000</td>\n",
       "    </tr>\n",
       "  </tbody>\n",
       "</table>\n",
       "</div>"
      ],
      "text/plain": [
       "       order_quantity_est  response_time_hrs    followups  conversion_status\n",
       "count         5000.000000        5000.000000  5000.000000        5000.000000\n",
       "mean           500.076600          36.468400     2.478000           0.460000\n",
       "std            285.862122          20.899549     1.717704           0.498447\n",
       "min             10.000000           1.000000     0.000000           0.000000\n",
       "25%            253.000000          18.000000     1.000000           0.000000\n",
       "50%            491.000000          37.000000     2.000000           0.000000\n",
       "75%            750.000000          54.000000     4.000000           1.000000\n",
       "max           1000.000000          72.000000     5.000000           1.000000"
      ]
     },
     "metadata": {},
     "output_type": "display_data"
    },
    {
     "data": {
      "text/plain": [
       "lead_id               0\n",
       "company_name          0\n",
       "company_type          0\n",
       "region                0\n",
       "product_interest      0\n",
       "inquiry_channel       0\n",
       "company_size          0\n",
       "order_quantity_est    0\n",
       "response_time_hrs     0\n",
       "quotation_shared      0\n",
       "catalog_requested     0\n",
       "followups             0\n",
       "conversion_status     0\n",
       "dtype: int64"
      ]
     },
     "metadata": {},
     "output_type": "display_data"
    }
   ],
   "source": [
    "# Load the dataset\n",
    "df = pd.read_csv('tara_metal_leads_realistic_5000.csv')\n",
    "display(df.head())\n",
    "display(df.info())\n",
    "display(df.describe())\n",
    "display(df.isnull().sum())"
   ]
  },
  {
   "cell_type": "code",
   "execution_count": 17,
   "id": "dc2dc76d",
   "metadata": {},
   "outputs": [
    {
     "data": {
      "text/plain": [
       "conversion_status\n",
       "0    0.54\n",
       "1    0.46\n",
       "Name: proportion, dtype: float64"
      ]
     },
     "execution_count": 17,
     "metadata": {},
     "output_type": "execute_result"
    }
   ],
   "source": [
    "df['conversion_status'].value_counts(normalize=True)\n"
   ]
  },
  {
   "cell_type": "code",
   "execution_count": 18,
   "id": "b718f4a8",
   "metadata": {},
   "outputs": [
    {
     "data": {
      "text/plain": [
       "<Axes: xlabel='conversion_status', ylabel='followups'>"
      ]
     },
     "execution_count": 18,
     "metadata": {},
     "output_type": "execute_result"
    },
    {
     "data": {
      "image/png": "[encoded data removed]",
      "text/plain": [
       "<Figure size 640x480 with 1 Axes>"
      ]
     },
     "metadata": {},
     "output_type": "display_data"
    }
   ],
   "source": [
    "import seaborn as sns\n",
    "sns.boxplot(x='conversion_status', y='followups', data=df)\n"
   ]
  },
  {
   "cell_type": "markdown",
   "id": "23808e1e",
   "metadata": {},
   "source": [
    "## 3. Data Cleaning and Preprocessing"
   ]
  },
  {
   "cell_type": "code",
   "execution_count": 26,
   "id": "b68b505a",
   "metadata": {},
   "outputs": [],
   "source": [
    "# Data Cleaning and Preprocessing\n",
    "df = df.copy()\n",
    "df = df.drop(['lead_id', 'company_name'], axis=1)  # Drop IDs and names (not useful for prediction)\n",
    "# Fill missing values for categorical and numerical columns\n",
    "for col in df.select_dtypes(include='object').columns:\n",
    "    df[col] = df[col].fillna('Unknown')\n",
    "for col in df.select_dtypes(include=np.number).columns:\n",
    "    df[col] = df[col].fillna(df[col].median())\n",
    "# Define features and target\n",
    "X = df.drop('conversion_status', axis=1)\n",
    "y = df['conversion_status']\n",
    "# Identify categorical and numerical columns\n",
    "categorical_cols = X.select_dtypes(include='object').columns.tolist()\n",
    "numerical_cols = X.select_dtypes(include=np.number).columns.tolist()\n",
    "# Set up preprocessing pipeline\n",
    "preprocessor = ColumnTransformer([\n",
    "    ('num', StandardScaler(), numerical_cols),\n",
    "    ('cat', OneHotEncoder(handle_unknown='ignore'), categorical_cols)\n",
    " ])"
   ]
  },
  {
   "cell_type": "code",
   "execution_count": 27,
   "id": "176205bf",
   "metadata": {},
   "outputs": [],
   "source": [
    "# Feature Engineering: log-transform and interaction features\n",
    "import numpy as np\n",
    "X['log_order_quantity_est'] = np.log1p(X['order_quantity_est'])\n",
    "X['log_response_time_hrs'] = np.log1p(X['response_time_hrs'])\n",
    "X['followups_squared'] = X['followups'] ** 2\n",
    "X['product_channel'] = X['product_interest'] + '_' + X['inquiry_channel']"
   ]
  },
  {
   "cell_type": "code",
   "execution_count": 28,
   "id": "11b9658d",
   "metadata": {},
   "outputs": [],
   "source": [
    "# Train/Test Split\n",
    "X_train, X_test, y_train, y_test = train_test_split(X, y, test_size=0.2, random_state=42, stratify=y)"
   ]
  },
  {
   "cell_type": "code",
   "execution_count": 33,
   "id": "7b8943fa",
   "metadata": {},
   "outputs": [],
   "source": [
    "# One-hot encode categorical features before SMOTE\n",
    "from sklearn.preprocessing import OneHotEncoder\n",
    "ohe = OneHotEncoder(handle_unknown='ignore', sparse_output=False)\n",
    "X_train_enc = pd.DataFrame(ohe.fit_transform(X_train), columns=ohe.get_feature_names_out(X_train.columns), index=X_train.index)\n",
    "X_test_enc = pd.DataFrame(ohe.transform(X_test), columns=ohe.get_feature_names_out(X_test.columns), index=X_test.index)"
   ]
  },
  {
   "cell_type": "code",
   "execution_count": 34,
   "id": "2f935329",
   "metadata": {},
   "outputs": [
    {
     "name": "stdout",
     "output_type": "stream",
     "text": [
      "Original training set shape: {0: 2160, 1: 1840}\n",
      "Resampled training set shape: {1: 2160, 0: 2160}\n"
     ]
    }
   ],
   "source": [
    "# Apply SMOTE to balance the training set (after encoding)\n",
    "from imblearn.over_sampling import SMOTE\n",
    "smote = SMOTE(random_state=42)\n",
    "X_train_res, y_train_res = smote.fit_resample(X_train_enc, y_train)\n",
    "print('Original training set shape:', y_train.value_counts().to_dict())\n",
    "print('Resampled training set shape:', y_train_res.value_counts().to_dict())"
   ]
  },
  {
   "cell_type": "code",
   "execution_count": null,
   "id": "bdeaf19d",
   "metadata": {},
   "outputs": [],
   "source": [
    "# Logistic Regression on SMOTE-resampled data\n",
    "from sklearn.linear_model import LogisticRegression\n",
    "lr = LogisticRegression(max_iter=1000)\n",
    "lr.fit(X_train_res, y_train_res)\n",
    "y_pred_lr_res = lr.predict(X_test_enc)\n",
    "from sklearn.metrics import classification_report, roc_auc_score\n",
    "print('Logistic Regression (SMOTE):')\n",
    "print(classification_report(y_test, y_pred_lr_res))\n",
    "print('ROC AUC:', roc_auc_score(y_test, y_pred_lr_res))"
   ]
  },
  {
   "cell_type": "markdown",
   "id": "b0977c28",
   "metadata": {},
   "source": [
    "## 4. Model Training and Evaluation"
   ]
  },
  {
   "cell_type": "code",
   "execution_count": 35,
   "id": "4350f41d",
   "metadata": {},
   "outputs": [
    {
     "name": "stdout",
     "output_type": "stream",
     "text": [
      "Logistic Regression:\n",
      "              precision    recall  f1-score   support\n",
      "\n",
      "           0       0.72      0.73      0.72       540\n",
      "           1       0.68      0.66      0.67       460\n",
      "\n",
      "    accuracy                           0.70      1000\n",
      "   macro avg       0.70      0.70      0.70      1000\n",
      "weighted avg       0.70      0.70      0.70      1000\n",
      "\n",
      "ROC AUC: 0.6950885668276972\n"
     ]
    }
   ],
   "source": [
    "# Logistic Regression with pipeline\n",
    "lr_pipeline = Pipeline([('pre', preprocessor), ('clf', LogisticRegression(max_iter=1000))])\n",
    "lr_pipeline.fit(X_train, y_train)\n",
    "y_pred_lr = lr_pipeline.predict(X_test)\n",
    "print('Logistic Regression:')\n",
    "print(classification_report(y_test, y_pred_lr))\n",
    "print('ROC AUC:', roc_auc_score(y_test, y_pred_lr))"
   ]
  },
  {
   "cell_type": "code",
   "execution_count": 22,
   "id": "399dd247",
   "metadata": {},
   "outputs": [
    {
     "name": "stdout",
     "output_type": "stream",
     "text": [
      "Random Forest:\n",
      "              precision    recall  f1-score   support\n",
      "\n",
      "           0       0.71      0.72      0.71       540\n",
      "           1       0.67      0.66      0.66       460\n",
      "\n",
      "    accuracy                           0.69      1000\n",
      "   macro avg       0.69      0.69      0.69      1000\n",
      "weighted avg       0.69      0.69      0.69      1000\n",
      "\n",
      "ROC AUC: 0.6887681159420289\n"
     ]
    }
   ],
   "source": [
    "# Random Forest with pipeline\n",
    "rf_pipeline = Pipeline([('pre', preprocessor), ('clf', RandomForestClassifier(n_estimators=100, random_state=42))])\n",
    "rf_pipeline.fit(X_train, y_train)\n",
    "y_pred_rf = rf_pipeline.predict(X_test)\n",
    "print('Random Forest:')\n",
    "print(classification_report(y_test, y_pred_rf))\n",
    "print('ROC AUC:', roc_auc_score(y_test, y_pred_rf))"
   ]
  },
  {
   "cell_type": "code",
   "execution_count": 36,
   "id": "44984091",
   "metadata": {},
   "outputs": [
    {
     "name": "stdout",
     "output_type": "stream",
     "text": [
      "Best Random Forest Params: {'clf__n_estimators': 200, 'clf__min_samples_split': 5, 'clf__min_samples_leaf': 1, 'clf__max_depth': 5, 'clf__class_weight': 'balanced'}\n",
      "Best Random Forest ROC AUC: 0.7638277241777806\n",
      "              precision    recall  f1-score   support\n",
      "\n",
      "           0       0.73      0.67      0.70       540\n",
      "           1       0.65      0.71      0.68       460\n",
      "\n",
      "    accuracy                           0.69      1000\n",
      "   macro avg       0.69      0.69      0.69      1000\n",
      "weighted avg       0.69      0.69      0.69      1000\n",
      "\n",
      "Test ROC AUC: 0.6913848631239936\n"
     ]
    },
    {
     "name": "stderr",
     "output_type": "stream",
     "text": [
      "c:\\Python311\\Lib\\site-packages\\joblib\\externals\\loky\\process_executor.py:752: UserWarning: A worker stopped while some jobs were given to the executor. This can be caused by a too short worker timeout or by a memory leak.\n",
      "  warnings.warn(\n"
     ]
    },
    {
     "name": "stdout",
     "output_type": "stream",
     "text": [
      "Best XGBoost Params: {'clf__subsample': 0.7, 'clf__n_estimators': 100, 'clf__max_depth': 3, 'clf__learning_rate': 0.1, 'clf__colsample_bytree': 0.8}\n",
      "Best XGBoost ROC AUC: 0.7693780041140238\n",
      "              precision    recall  f1-score   support\n",
      "\n",
      "           0       0.71      0.72      0.72       540\n",
      "           1       0.67      0.66      0.66       460\n",
      "\n",
      "    accuracy                           0.69      1000\n",
      "   macro avg       0.69      0.69      0.69      1000\n",
      "weighted avg       0.69      0.69      0.69      1000\n",
      "\n",
      "Test ROC AUC: 0.6895330112721416\n"
     ]
    },
    {
     "name": "stderr",
     "output_type": "stream",
     "text": [
      "c:\\Python311\\Lib\\site-packages\\xgboost\\training.py:183: UserWarning: [00:23:05] WARNING: C:\\actions-runner\\_work\\xgboost\\xgboost\\src\\learner.cc:738: \n",
      "Parameters: { \"use_label_encoder\" } are not used.\n",
      "\n",
      "  bst.update(dtrain, iteration=i, fobj=obj)\n"
     ]
    }
   ],
   "source": [
    "# Hyperparameter Tuning for Random Forest and XGBoost\n",
    "from sklearn.model_selection import RandomizedSearchCV\n",
    "param_dist_rf = {\n",
    "    'clf__n_estimators': [100, 200, 300],\n",
    "    'clf__max_depth': [None, 5, 10, 20],\n",
    "    'clf__min_samples_split': [2, 5, 10],\n",
    "    'clf__min_samples_leaf': [1, 2, 4],\n",
    "    'clf__class_weight': [None, 'balanced']\n",
    "}\n",
    "rf_search = RandomizedSearchCV(Pipeline([('pre', preprocessor), ('clf', RandomForestClassifier(random_state=42))]),\n",
    "    param_distributions=param_dist_rf, n_iter=10, scoring='roc_auc', cv=3, random_state=42, n_jobs=-1)\n",
    "rf_search.fit(X_train, y_train)\n",
    "print('Best Random Forest Params:', rf_search.best_params_)\n",
    "print('Best Random Forest ROC AUC:', rf_search.best_score_)\n",
    "y_pred_rf_best = rf_search.predict(X_test)\n",
    "print(classification_report(y_test, y_pred_rf_best))\n",
    "print('Test ROC AUC:', roc_auc_score(y_test, y_pred_rf_best))\n",
    "\n",
    "param_dist_xgb = {\n",
    "    'clf__n_estimators': [100, 200, 300],\n",
    "    'clf__max_depth': [3, 5, 7, 10],\n",
    "    'clf__learning_rate': [0.01, 0.1, 0.2],\n",
    "    'clf__subsample': [0.7, 0.8, 1.0],\n",
    "    'clf__colsample_bytree': [0.7, 0.8, 1.0]\n",
    "}\n",
    "xgb_search = RandomizedSearchCV(Pipeline([('pre', preprocessor), ('clf', XGBClassifier(use_label_encoder=False, eval_metric='logloss', random_state=42))]),\n",
    "    param_distributions=param_dist_xgb, n_iter=10, scoring='roc_auc', cv=3, random_state=42, n_jobs=-1)\n",
    "xgb_search.fit(X_train, y_train)\n",
    "print('Best XGBoost Params:', xgb_search.best_params_)\n",
    "print('Best XGBoost ROC AUC:', xgb_search.best_score_)\n",
    "y_pred_xgb_best = xgb_search.predict(X_test)\n",
    "print(classification_report(y_test, y_pred_xgb_best))\n",
    "print('Test ROC AUC:', roc_auc_score(y_test, y_pred_xgb_best))"
   ]
  },
  {
   "cell_type": "markdown",
   "id": "0bd8251c",
   "metadata": {},
   "source": [
    "## 8. Model Selection and Saving the Best Model"
   ]
  },
  {
   "cell_type": "code",
   "execution_count": 37,
   "id": "1ee4674e",
   "metadata": {},
   "outputs": [
    {
     "data": {
      "text/plain": [
       "['best_lead_conversion_model.pkl']"
      ]
     },
     "execution_count": 37,
     "metadata": {},
     "output_type": "execute_result"
    }
   ],
   "source": [
    "# Save the best model pipeline (example: Random Forest)\n",
    "import joblib\n",
    "joblib.dump(lr_pipeline, 'best_lead_conversion_model.pkl')"
   ]
  },
  {
   "cell_type": "markdown",
   "id": "ffc8a80a",
   "metadata": {},
   "source": [
    "## 9. Next Steps and Business Recommendations\n",
    "- Use the saved model in a web app for real-time lead scoring.\n",
    "- Analyze feature importances to guide sales strategies.\n",
    "- Continuously retrain the model as more data becomes available."
   ]
  }
 ],
 "metadata": {
  "kernelspec": {
   "display_name": "Python 3",
   "language": "python",
   "name": "python3"
  },
  "language_info": {
   "codemirror_mode": {
    "name": "ipython",
    "version": 3
   },
   "file_extension": ".py",
   "mimetype": "text/x-python",
   "name": "python",
   "nbconvert_exporter": "python",
   "pygments_lexer": "ipython3",
   "version": "3.11.5"
  }
 },
 "nbformat": 4,
 "nbformat_minor": 5
}
